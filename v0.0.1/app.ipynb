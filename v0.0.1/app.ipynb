{
 "cells": [
  {
   "cell_type": "markdown",
   "metadata": {},
   "source": [
    "<h3 style='text-align: center'>\n",
    "Importações\n",
    "</h3>"
   ]
  },
  {
   "cell_type": "code",
   "execution_count": 39,
   "metadata": {},
   "outputs": [],
   "source": [
    "import pyautogui\n",
    "from time import sleep, localtime\n"
   ]
  },
  {
   "cell_type": "markdown",
   "metadata": {},
   "source": [
    "<h4 style='text-align: center'>\n",
    "Shortcuts\n",
    "</h4>"
   ]
  },
  {
   "cell_type": "code",
   "execution_count": 40,
   "metadata": {},
   "outputs": [],
   "source": [
    "#pyautogui.KEYBOARD_KEYS"
   ]
  },
  {
   "cell_type": "markdown",
   "metadata": {},
   "source": [
    "<h4 style='text-align: center'>\n",
    "Váriaveis\n",
    "\n",
    "</h4>"
   ]
  },
  {
   "cell_type": "code",
   "execution_count": 41,
   "metadata": {},
   "outputs": [
    {
     "name": "stdout",
     "output_type": "stream",
     "text": [
      "time.struct_time(tm_year=2023, tm_mon=9, tm_mday=25, tm_hour=22, tm_min=8, tm_sec=29, tm_wday=0, tm_yday=268, tm_isdst=0)\n",
      "0\n",
      "25 09 2023\n",
      "[1, 2, 5, 6, 7, 8, 9, 10, 11, 279]\n"
     ]
    }
   ],
   "source": [
    "ctab = 0\n",
    "cposto = 0\n",
    "c = 0\n",
    "data = localtime()\n",
    "\n",
    "dia = data[2]\n",
    "\n",
    "ano = data[0]\n",
    "\n",
    "if data[1] >= 10:\n",
    "    mes = data[1]\n",
    "else:\n",
    "    mes = f'0{data[1]}'\n",
    "\n",
    "postos = [1,2,5,6,7,8,9,10,11,279]\n",
    "\n",
    "print(data)\n",
    "print(cposto)\n",
    "print(dia, mes, ano)\n",
    "print(postos)\n"
   ]
  },
  {
   "cell_type": "markdown",
   "metadata": {},
   "source": [
    "<h3 style='text-align: center'>\n",
    "Programa\n",
    "</h3>"
   ]
  },
  {
   "cell_type": "code",
   "execution_count": 42,
   "metadata": {},
   "outputs": [],
   "source": [
    "pyautogui.press('win')\n",
    "sleep(1)\n",
    "pyautogui.write('chrome')\n",
    "sleep(1)\n",
    "pyautogui.press('enter')\n",
    "sleep(1)\n",
    "pyautogui.hotkey('ctrl', 't')\n",
    "pyautogui.write('lis.humanizalab.com.br')\n",
    "pyautogui.press('enter')\n",
    "sleep(50)\n",
    "pyautogui.press('tab')\n",
    "pyautogui.press('enter')\n",
    "sleep(1)\n",
    "pyautogui.write('emissao de previa')\n",
    "sleep(1)\n",
    "pyautogui.press('enter')\n",
    "\n",
    "while True:\n",
    "    if ctab < 26:\n",
    "        pyautogui.press('tab')\n",
    "        ctab += 1\n",
    "    else:\n",
    "        ctab = 0\n",
    "        break\n",
    "    \n",
    "sleep(1)\n",
    "                                \n",
    "while True:\n",
    "    if c < 10:\n",
    "        pyautogui.write(f'{dia}{mes}{ano}')\n",
    "        pyautogui.press('tab')\n",
    "        sleep(1)\n",
    "        pyautogui.write(f'{dia}{mes}{ano}')\n",
    "        pyautogui.press('tab')\n",
    "        pyautogui.write('10')\n",
    "        sleep(1)\n",
    "        pyautogui.press('down')\n",
    "        pyautogui.press('enter')\n",
    "\n",
    "        while True:\n",
    "            if ctab < 5:\n",
    "                pyautogui.press('tab')\n",
    "                ctab += 1\n",
    "            else:\n",
    "                ctab = 0\n",
    "                break                               \n",
    "        sleep(1)\n",
    "        \n",
    "        pyautogui.write(f'{postos[c]}')\n",
    "        \n",
    "        sleep(1)\n",
    "        \n",
    "        if c == 0:\n",
    "            while True:\n",
    "                if ctab < 4:\n",
    "                    pyautogui.press('down')\n",
    "                    ctab += 1\n",
    "                else:\n",
    "                    ctab = 0\n",
    "                    break\n",
    "            pyautogui.press('enter')\n",
    "            sleep(1)\n",
    "        else:\n",
    "            pyautogui.press('down')\n",
    "            pyautogui.press('enter')\n",
    "            sleep(1)\n",
    "        \n",
    "        while True:\n",
    "                if ctab < 6:\n",
    "                    pyautogui.press('tab')\n",
    "                    ctab += 1\n",
    "                else:\n",
    "                    ctab = 0\n",
    "                    break                               \n",
    "        sleep(1)\n",
    "        pyautogui.write('25')\n",
    "        sleep(1)\n",
    "        pyautogui.press('down')\n",
    "        pyautogui.press('enter')\n",
    "        sleep(1)\n",
    "        \n",
    "        while True:\n",
    "                if ctab < 22:\n",
    "                    pyautogui.hotkey('shift', 'tab')\n",
    "                    ctab += 1\n",
    "                else:\n",
    "                    ctab = 0\n",
    "                    break       \n",
    "        sleep(1)\n",
    "        pyautogui.press('enter')\n",
    "        sleep(1)\n",
    "        \n",
    "        while True:\n",
    "                if ctab < 9:\n",
    "                    pyautogui.press('tab')\n",
    "                    ctab += 1\n",
    "                else:\n",
    "                    ctab = 0\n",
    "                    break\n",
    "        \n",
    "        c += 1\n",
    "        cposto +=1\n",
    "        \n",
    "         \n",
    "            \n",
    "    else: \n",
    "        break\n",
    "\n",
    "while True:\n",
    "    if ctab < 8:\n",
    "        pyautogui.hotkey('shift', 'tab')\n",
    "        ctab += 1\n",
    "    else:\n",
    "        ctab = 0\n",
    "        break\n",
    "sleep(1)\n",
    "pyautogui.press('enter')"
   ]
  },
  {
   "cell_type": "markdown",
   "metadata": {},
   "source": [
    "<h3 style='text-align: center'>\n",
    "Não foi possivel testar \n",
    "</h3>"
   ]
  },
  {
   "cell_type": "markdown",
   "metadata": {},
   "source": [
    "BAIXAR RELATORIOS GERADOS:\n",
    "\n",
    "    tab 7 vezes\n",
    "    enter\n",
    "\n",
    "    Loop: (10 vezes)\n",
    "        alt+tab\n",
    "        sleep\n",
    "        alt+tab ???\n",
    "        tab\n",
    "        enter\n",
    "        tab 3 vezes\n",
    "        enter\n",
    "\n",
    "IMPRIMIR RELATORIOS BAIXADOS:\n",
    "\n",
    "    win + r\n",
    "    digitar 'downloads'\n",
    "    enter\n",
    "    seta pra cima\n",
    "    seta pra baixo\n",
    "\n",
    "    Loop:  (10 vezes)\n",
    "        enter\n",
    "        seta para cima\n",
    "        enter\n",
    "        crtl+p\n",
    "        enter\n",
    "        ctrl+w\n",
    "        alt+seta para esquerda\n",
    "        seta pra baixo\n",
    "\n",
    "        \n",
    "\n",
    "\n"
   ]
  }
 ],
 "metadata": {
  "kernelspec": {
   "display_name": "Python 3",
   "language": "python",
   "name": "python3"
  },
  "language_info": {
   "codemirror_mode": {
    "name": "ipython",
    "version": 3
   },
   "file_extension": ".py",
   "mimetype": "text/x-python",
   "name": "python",
   "nbconvert_exporter": "python",
   "pygments_lexer": "ipython3",
   "version": "3.10.2"
  },
  "orig_nbformat": 4
 },
 "nbformat": 4,
 "nbformat_minor": 2
}
